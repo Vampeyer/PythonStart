{
 "cells": [
  {
   "cell_type": "markdown",
   "metadata": {
    "id": "oiDG-6hxkavK"
   },
   "source": [
    "<h1>Coding - Summative Assessment</h1>\n",
    "\n",
    "By the time you attempt this summative assessment, you should have completed the entire **Coding Learning Module** and all other required homework/labs. The optional homework/labs may be helpful but are not necessary to complete this summative assessment.\n",
    "\n",
    "In the code cell that follows, write Python code for a complete application as described below.\n",
    "\n",
    "1. Prompt the user repeatedly to enter a patient identification number (an int), patient name (a string), patient height in inches (a positive float), and patient weight in pounds (a positive float) <u>until the user enters a negative number for the patient ID</u> (see Step 5 below for more information on the requirement to repeat the inputs).<br /><br />Be sure to check for validity of the input values for the height and the weight. If either is less than or equal to zero, alert the user to their mistake and repeat the input for the correct value until the user provides valid input values for the patient’s height and weight. This can most easily be accomplished with the use of a `while` loop to continue prompting the user for input of height (also for weight) so long as the entered value is invalid (here, less than or equal to zero).\n",
    "1. For each patient’s information entered, your code should compute the BMI. You <u>must write a function</u> to do this calculation. The function must accept the patient’s height (in inches) and weight (in pounds) as parameters and return the calculated BMI.<br /><br />The formula for BMI using pounds and inches is:<br /><br />BMI = weight (lb) / [height (in)]<sup>2</sup> x 703<br /><br />See this <a href=\"https://www.cdc.gov/healthyweight/assessing/bmi/adult_bmi/index.html#Interpreted\" target=\"_blank\">CDC guide</a> for more information on how to calculate and interpret BMI.<br /><br /><b>Note</b>: Though not required here, it is common to round the BMI result to one decimal place of precision and that is how the CDC guide interprets the BMI result. The table in Step 3 below, however, will work to interpret the BMI result even when its value is not rounded to 1 decimal place of precision. Your function <u>does not</u> need to round the BMI result.\n",
    "1. For each patient’s information entered, categorize the patient according to the following table:<br /><br />\n",
    "![image.png](data:image/png;base64,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) \n",
    "<br />Strive to make your decision logic for interpreting the BMI as efficient as possible.\n",
    "1. For each patient’s information entered, output a well-formatted result listing the patient’s ID, name, calculated BMI (output with 1 digit of precision) and associated category (Underweight, Obese, etc.). The use of _f-strings_ to produce the formatted output is recommended.\n",
    "1. Continue the process of gathering patient data until the user enters a negative number for the patient ID. Remember, this is a type of _sentinel control_ that will require the use of a `while` loop to control the\n",
    "input process. Most of your application’s logic will effectively be contained within a large `while` loop (other than the required BMI function and a few other statements). You will have other loops and decision logic nested inside this sentinel control `while` loop.\n",
    "\n"
   ]
  },
  {
   "cell_type": "code",
   "execution_count": null,
   "metadata": {
    "id": "dmrzr6Y3kSYn"
   },
   "outputs": [
    {
     "name": "stdout",
     "output_type": "stream",
     "text": [
      " Program Start\n"
     ]
    },
    {
     "name": "stdin",
     "output_type": "stream",
     "text": [
      "Input your PatientID number  : 22\n",
      "Enter patients name here  : joe\n",
      "Enter patients weight here  : 165\n",
      "Enter patients height here  : 92\n"
     ]
    },
    {
     "name": "stdout",
     "output_type": "stream",
     "text": [
      "The patient joe has a patientID of 22 , they have a weight of 165.0 and a height of 92.0 ,  - This patients BMI is 13.704513232514177 \n",
      "Your bmi is 13.704513232514177\n",
      "Patient is in the Underweight\n"
     ]
    },
    {
     "name": "stdin",
     "output_type": "stream",
     "text": [
      " Would you like to see the patient data ? y / n ?  y\n"
     ]
    },
    {
     "name": "stdout",
     "output_type": "stream",
     "text": [
      "y\n",
      "{'PatientId': 22, 'name': 'joe', 'Height': 92.0, 'Weight': 165.0}\n"
     ]
    }
   ],
   "source": [
    "# Put your code here\n",
    "\n",
    "# BMI Calculator Base - \n",
    "def bmi_calc(w,h):\n",
    "        bmi = w / (h * h) * 703\n",
    "        return bmi\n",
    "\n",
    "\n",
    "\n",
    "\n",
    "print(\" Program Start\")\n",
    "### Program Start \n",
    "##################################################\n",
    "#Example of chained if elif ... statements illustrating \"Chained execution\"\n",
    "\n",
    "\n",
    "patient_data = {}\n",
    "i = 0\n",
    "\n",
    "while i >= 0:\n",
    "    i = int(input('Input your PatientID number  :'))\n",
    "    name = str(input('Enter patients name here  :'))\n",
    "\n",
    "    w = float(input('Enter patients weight here  :'))\n",
    "    if w <= 0:\n",
    "        print(\" Please type a valid weight\")\n",
    "        break\n",
    "\n",
    "    h = float(input('Enter patients height here  :'))\n",
    "    if h <= 0:\n",
    "        print('Please enter a valid height')\n",
    "        break\n",
    "\n",
    "    PatientsBMI = bmi_calc(w, h)\n",
    "    print(f'The patient {name} has a patientID of {str(i)} , they have a weight of {w} and a height of {h} ,  - This patients BMI is {PatientsBMI} ')\n",
    "    print(f'Your bmi is {PatientsBMI}')\n",
    "\n",
    "    if PatientsBMI >= 30:\n",
    "        print(\"Patient is in the Obese category\")\n",
    "    elif PatientsBMI >= 25:\n",
    "        print(\"Patient is in the Overweight category\")\n",
    "    elif PatientsBMI > 18.5:\n",
    "        print(\"Patient is in the Healthy weight category\")\n",
    "    elif PatientsBMI < 18.5:\n",
    "        print(\"Patient is in the Underweight\")\n",
    "    else:\n",
    "        print(\"Sorry you did not make it\")\n",
    "   \n",
    "\n",
    "# Below is extra content to display the patient data optionally , \n",
    "  # within the while loop.\n",
    "\n",
    "    display = input(' Would you like to see the patient data ? y / n ? ')\n",
    "    \n",
    "    Y = 'y' \n",
    "    \n",
    "    print(display)\n",
    "    patient_data['PatientId'] = i\n",
    "    patient_data['name'] = name \n",
    "    patient_data['Height'] = h\n",
    "    patient_data['Weight'] = w\n",
    "\n",
    "    if display == Y:\n",
    "        print(patient_data) "
   ]
  },
  {
   "cell_type": "code",
   "execution_count": null,
   "metadata": {},
   "outputs": [],
   "source": []
  }
 ],
 "metadata": {
  "colab": {
   "collapsed_sections": [],
   "name": "Coding_Summative.ipynb",
   "provenance": []
  },
  "kernelspec": {
   "display_name": "Python 3 (ipykernel)",
   "language": "python",
   "name": "python3"
  },
  "language_info": {
   "codemirror_mode": {
    "name": "ipython",
    "version": 3
   },
   "file_extension": ".py",
   "mimetype": "text/x-python",
   "name": "python",
   "nbconvert_exporter": "python",
   "pygments_lexer": "ipython3",
   "version": "3.11.3"
  }
 },
 "nbformat": 4,
 "nbformat_minor": 4
}
