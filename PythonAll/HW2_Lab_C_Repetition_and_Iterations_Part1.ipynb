{
 "cells": [
  {
   "cell_type": "markdown",
   "metadata": {
    "id": "bh4xaGNlFUPn"
   },
   "source": [
    "In This lab we will illustrate some usage of the while loop. After each example you will have a task that ypu will need to complete"
   ]
  },
  {
   "cell_type": "markdown",
   "metadata": {
    "id": "ohsJphBfHSHx"
   },
   "source": [
    "Countdown Example"
   ]
  },
  {
   "cell_type": "code",
   "execution_count": 5,
   "metadata": {
    "id": "RO7pNpl4wHqp",
    "scrolled": true
   },
   "outputs": [
    {
     "name": "stdout",
     "output_type": "stream",
     "text": [
      "5\n",
      "4\n",
      "3\n",
      "2\n",
      "1\n",
      "We are done\n"
     ]
    }
   ],
   "source": [
    "n = 5\n",
    "while n > 0 :\n",
    "  print(n)\n",
    "  n = n - 1\n",
    "print (\"We are done\")"
   ]
  },
  {
   "cell_type": "markdown",
   "metadata": {
    "id": "l87lNEqyE6jr"
   },
   "source": [
    "**Task 1:** Add a code cell with a script to count up from 1 to 7 and print each integer, at the end print \"We are done\"\n",
    " "
   ]
  },
  {
   "cell_type": "markdown",
   "metadata": {
    "id": "5fxfV4sXOe4s"
   },
   "source": [
    "Use a while loop to print the even integers between 1 and 16"
   ]
  },
  {
   "cell_type": "code",
   "execution_count": 4,
   "metadata": {
    "id": "gBYWe5jsOqiJ"
   },
   "outputs": [
    {
     "name": "stdout",
     "output_type": "stream",
     "text": [
      "2\n",
      "4\n",
      "6\n",
      "8\n",
      "10\n",
      "12\n",
      "14\n",
      "16\n",
      "We are done\n"
     ]
    }
   ],
   "source": [
    "i = 1\n",
    "while i <= 16:\n",
    "    if i % 2 == 0:\n",
    "        print(i)\n",
    "        i = i + 1\n",
    "    else:\n",
    "        i = i + 1\n",
    "print(\"We are done\")"
   ]
  },
  {
   "cell_type": "markdown",
   "metadata": {
    "id": "bg8ZUTM6FsiJ"
   },
   "source": [
    "**Task 2:** Use a while loop to print the odd integers between 3 and 15, at the end print \"We are done\"\n"
   ]
  },
  {
   "cell_type": "markdown",
   "metadata": {
    "id": "mGcxETWKWux1"
   },
   "source": [
    "Use a while loop to start printing integers between 1 and 10\n",
    "but if you hit 7 abort printing"
   ]
  },
  {
   "cell_type": "code",
   "execution_count": 6,
   "metadata": {
    "id": "eQOGnwtfRnYn"
   },
   "outputs": [
    {
     "name": "stdout",
     "output_type": "stream",
     "text": [
      "i = 1\n",
      "i = 2\n",
      "i = 3\n",
      "i = 4\n",
      "i = 5\n",
      "i = 6\n",
      "The while loop exhausted\n"
     ]
    }
   ],
   "source": [
    "i = 1\n",
    "while i <= 10:\n",
    "    print(\"i = %d\" % i)\n",
    "    i = i + 1\n",
    "    if i == 7:\n",
    "        break\n",
    "print(\"The while loop exhausted\")  # This is optional"
   ]
  },
  {
   "cell_type": "markdown",
   "metadata": {
    "id": "9HDGqjWStCia"
   },
   "source": [
    "Iterating over a range with for"
   ]
  },
  {
   "cell_type": "code",
   "execution_count": 7,
   "metadata": {
    "id": "dsa_gWbVrf1e"
   },
   "outputs": [
    {
     "name": "stdout",
     "output_type": "stream",
     "text": [
      "2\n",
      "4\n",
      "6\n"
     ]
    }
   ],
   "source": [
    "for i in range(2,7,2):\n",
    "    print(i)"
   ]
  },
  {
   "cell_type": "markdown",
   "metadata": {
    "id": "uhBv5PqXGpTe"
   },
   "source": [
    "**Task 3:** Iterate over the range(3, 9, 2) and print all integers in this range"
   ]
  },
  {
   "cell_type": "markdown",
   "metadata": {
    "id": "F7QA7xCBvV7e"
   },
   "source": [
    "Create a table that shows a set of integers and their square values\n"
   ]
  },
  {
   "cell_type": "markdown",
   "metadata": {
    "id": "ZOJSKMDRDw0S"
   },
   "source": [
    "starting with 1 and until we reach a number of our choosing"
   ]
  },
  {
   "cell_type": "code",
   "execution_count": 8,
   "metadata": {
    "id": "RBbpsEHOtruo"
   },
   "outputs": [
    {
     "name": "stdin",
     "output_type": "stream",
     "text": [
      "Enter a number: 6\n"
     ]
    },
    {
     "name": "stdout",
     "output_type": "stream",
     "text": [
      "1 :  1\n",
      "2 :  4\n",
      "3 :  9\n",
      "4 : 16\n",
      "5 : 25\n",
      "6 : 36\n"
     ]
    }
   ],
   "source": [
    "i=1\n",
    "num = int(input(\"Enter a number:\"))\n",
    "for i in range(1,num+1):\n",
    "    print(\"%d : %2d\" % (i, i*i))"
   ]
  },
  {
   "cell_type": "markdown",
   "metadata": {
    "id": "aGA86MwKRPLe"
   },
   "source": [
    "The Continue Example"
   ]
  },
  {
   "cell_type": "code",
   "execution_count": 9,
   "metadata": {
    "id": "DSAViBQsOaxe"
   },
   "outputs": [
    {
     "name": "stdout",
     "output_type": "stream",
     "text": [
      "i = 1\n",
      "i = 2\n",
      "i = 3\n",
      "i = 4\n",
      "i = 5\n",
      "i = 6\n",
      "i = 8\n",
      "i = 9\n",
      "i = 10\n",
      "The while loop exhausted\n"
     ]
    }
   ],
   "source": [
    "i = 0\n",
    "while i < 10:\n",
    "    i = i + 1\n",
    "    if i == 7:\n",
    "     continue\n",
    "    print(\"i = %d\" % i)\n",
    "print(\"The while loop exhausted\")  # This is optional"
   ]
  },
  {
   "cell_type": "markdown",
   "metadata": {
    "id": "j6OFUcJiR4r8"
   },
   "source": [
    "The Break Example"
   ]
  },
  {
   "cell_type": "code",
   "execution_count": 10,
   "metadata": {
    "id": "gUnULQn9R_qm"
   },
   "outputs": [
    {
     "name": "stdout",
     "output_type": "stream",
     "text": [
      "i = 1\n",
      "i = 2\n",
      "i = 3\n",
      "i = 4\n",
      "i = 5\n",
      "i = 6\n",
      "The while loop exhausted\n"
     ]
    }
   ],
   "source": [
    "i = 0\n",
    "while i < 10:\n",
    "    i = i + 1\n",
    "    if i == 7:\n",
    "     break\n",
    "    print(\"i = %d\" % i)\n",
    "print(\"The while loop exhausted\")  # This is optional"
   ]
  },
  {
   "cell_type": "markdown",
   "metadata": {
    "id": "Bpb_GqOQImGF"
   },
   "source": [
    "**Task 4:** Write a script that prints even numbers between 2 and 20 but force the loop to stop when i equals 16 using break and print \"The while loop exhausted\""
   ]
  },
  {
   "cell_type": "markdown",
   "metadata": {
    "id": "Mu31a7xvat1f"
   },
   "source": [
    "for over a sequence"
   ]
  },
  {
   "cell_type": "code",
   "execution_count": 11,
   "metadata": {
    "id": "FIwbhEdhaxjh"
   },
   "outputs": [
    {
     "name": "stdout",
     "output_type": "stream",
     "text": [
      "F\n",
      "r\n",
      "u\n",
      "i\n",
      "t\n",
      "-\n",
      "L\n",
      "o\n",
      "o\n",
      "p\n",
      "s\n"
     ]
    }
   ],
   "source": [
    "Cereal = \"Fruit Loops\"\n",
    "for letter in Cereal:\n",
    "    if letter != ' ' :\n",
    "      print(letter)\n",
    "    else:\n",
    "      print('-')"
   ]
  },
  {
   "cell_type": "markdown",
   "metadata": {
    "id": "8DBhRFp9d7hX"
   },
   "source": [
    "for over a list"
   ]
  },
  {
   "cell_type": "code",
   "execution_count": null,
   "metadata": {
    "id": "6MHmr0LrcIeJ"
   },
   "outputs": [],
   "source": [
    "Week_Days = [\"Sunday\", \"Monday\", \"Tuesday\", \"Wednesday\", \"Thursday\", \"Friday\", \"Saturday\"]\n",
    "for day in Week_Days :\n",
    "  if day != \"Saturday\" and day != \"Sunday\":\n",
    "    print(\"It must be work day\")\n",
    "  else:\n",
    "    print(\"It must be the week-end\")"
   ]
  },
  {
   "cell_type": "markdown",
   "metadata": {
    "id": "rnjsYcHbjFyf"
   },
   "source": [
    "a while else example"
   ]
  },
  {
   "cell_type": "code",
   "execution_count": null,
   "metadata": {
    "id": "psJ7iaInkZH2"
   },
   "outputs": [],
   "source": [
    "i = 1\n",
    "while i <= 18:\n",
    "    if i % 2 == 0:\n",
    "        print(i)\n",
    "        i = i + 1\n",
    "    else:\n",
    "        i = i + 1\n",
    "else:\n",
    "  print(\"We are done\")"
   ]
  }
 ],
 "metadata": {
  "colab": {
   "collapsed_sections": [],
   "name": "HW2_Lab_C_Repetition_and_Iterations_Part1.ipynb",
   "provenance": []
  },
  "kernelspec": {
   "display_name": "Python 3 (ipykernel)",
   "language": "python",
   "name": "python3"
  },
  "language_info": {
   "codemirror_mode": {
    "name": "ipython",
    "version": 3
   },
   "file_extension": ".py",
   "mimetype": "text/x-python",
   "name": "python",
   "nbconvert_exporter": "python",
   "pygments_lexer": "ipython3",
   "version": "3.11.3"
  }
 },
 "nbformat": 4,
 "nbformat_minor": 4
}
