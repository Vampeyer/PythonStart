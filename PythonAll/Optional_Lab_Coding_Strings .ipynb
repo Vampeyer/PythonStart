{
 "cells": [
  {
   "cell_type": "markdown",
   "metadata": {
    "id": "DpRH-GAlQxHX"
   },
   "source": [
    "<h1>Strings Lab</h1>"
   ]
  },
  {
   "cell_type": "markdown",
   "metadata": {
    "id": "g-FEcclt2TKs"
   },
   "source": [
    "By the time you attempt this lab, you should have completed the *Strings* section in your **Coding Learning Module**. The problems in this lab will apply the concepts and skills you've learned up to this point. Let's start with a refresher. In Python, strings are made up of characters stored sequentially, each of which has a numeric value associated with it. Historically, there have been many systems developed that use simple integer values to represent each unique character in an alphabet. Currently, the most popular system is named <a href =\"https://www.unicode.org/standard/WhatIsUnicode.html\" target=\"_blank\">Unicode</a> (click the link to learn more about this history). Simply put, Unicode provides a unique number for every character, no matter the platform, no matter the program, no matter the language being written - English, Greek, Russian, it doesn't matter.\n",
    "\n",
    "The first problem in the lab asks you to create a table that shows each uppercase letter of the English alphabet (A-Z) and that character's associated Unicode number. As you may recall, Python has a function that can be used to look up a given character's Unicode value (`ord` - see <a href=\"https://docs.python.org/3/library/functions.html#ord\" target=\"_blank\">Python documentation for `ord`</a>). Similarly, if you have a Unicode number, Python has a function that can be used to return that number's associated string character (`chr` - see <a href=\"https://docs.python.org/3/library/functions.html#chr\" target=\"_blank\">Python documentation for `chr`</a>).\n",
    "\n",
    "For example, to find the associated Unicode number for the letter 'A', run the code cell below.<br />\n",
    "**Execute the below code cell by hitting SHIFT+Enter.**"
   ]
  },
  {
   "cell_type": "code",
   "execution_count": null,
   "metadata": {
    "id": "TWW6DUfR2TKv"
   },
   "outputs": [],
   "source": [
    "letter = 'A'\n",
    "ch_code = ord(letter)\n",
    "print(f'The Unicode number for the letter {letter} is {ch_code}.')"
   ]
  },
  {
   "cell_type": "markdown",
   "metadata": {
    "id": "KsSxhr5e2TKz"
   },
   "source": [
    "Similarly, to find the associated string character associated with the Unicode number 90, run the code cell below.<br />\n",
    "**Execute the below code cell by hitting SHIFT+Enter.**"
   ]
  },
  {
   "cell_type": "code",
   "execution_count": null,
   "metadata": {
    "id": "EchdDpSP2TK1"
   },
   "outputs": [],
   "source": [
    "ch_code = 90\n",
    "letter = chr(ch_code)\n",
    "print(f'The string character associated with the Unicode number {ch_code} is {letter}')"
   ]
  },
  {
   "cell_type": "markdown",
   "metadata": {
    "id": "jXTFowLW2TK2"
   },
   "source": [
    "Since each string is a sequence of characters, you can use a Python `for` loop to step through each character. For example, the code cell below prints each character in the string 'Hello' on a separate line.<br />\n",
    "**Execute the below code cell by hitting SHIFT+Enter.**"
   ]
  },
  {
   "cell_type": "code",
   "execution_count": null,
   "metadata": {
    "id": "VNidzQuq2TK2"
   },
   "outputs": [],
   "source": [
    "test_str = 'Hello'\n",
    "print(f'\"{test_str}\" consists of the follow letters:')\n",
    "for ch in test_str:\n",
    "  print(ch)"
   ]
  },
  {
   "cell_type": "markdown",
   "metadata": {
    "id": "yFBQXWuNQxHY",
    "tags": []
   },
   "source": [
    "<h3>Problem 1</h3>\n",
    "\n",
    "Using what you've learned up to this point in the module, write Python code in the cell below that will display the Unicode numbers (character codes) for the uppercase alphabet letters (A-Z) using the `ord` and/or `chr` function. Format the output so that each letter and associated character code appears on a separate line divided into two columns. Be sure to include a header row with column labels in the output as shown (partially) below:\n",
    "<pre>\n",
    "Letter Code\n",
    "  A     65\n",
    "  B     66\n",
    "  C     67\n",
    "  D     68\n",
    "  E     69\n",
    "...\n",
    "\n",
    "  Z     90</pre>\n",
    "  \n",
    "The code cell below includes a test string variable with the letters A-Z already defined if you choose to use it."
   ]
  },
  {
   "cell_type": "code",
   "execution_count": null,
   "metadata": {
    "id": "etsG9TS2QxHZ"
   },
   "outputs": [],
   "source": [
    "# Put answer here\n",
    "test_str = 'ABCDEFGHIJKLMNOPQRSTUVWXYZ' # Feel free to use this variable to help loop through the letters\n"
   ]
  },
  {
   "cell_type": "markdown",
   "metadata": {
    "id": "4BAuI4fq2TK8"
   },
   "source": [
    "The next problem is **optional** but applies more of the concepts and skills that you have learned up to this point. It requires that you do some manipulation on a user-entered string to change all the letters to the same case (upper case or lower case) and remove any non-alphabetic characters (or, more accurately, *include* only alphabetic characters). Once this is done, the string will be tested to see if it is a _palindrome_ (a word or phrase that is the same when read both forward and backward).\n",
    "\n",
    "So, the first question you may be asking is how we can change the case of the letters in a string. Luckily, Python has methods for this, `str.lower` and `str.upper` (see <a href=\"https://docs.python.org/3/library/stdtypes.html#str.lower\" target=\"_blank\">`str.lower` Python documentation</a> and <a href=\"https://docs.python.org/3/library/stdtypes.html#str.upper\" target=\"_blank\">`str.upper` Python documentation</a>). Remember, methods are called using an object, so the syntax is different than a normal function call. The code cell below demonstrates the use of `str.lower` on a test string.<br />\n",
    "**Execute the below code cell by hitting SHIFT+Enter.**"
   ]
  },
  {
   "cell_type": "code",
   "execution_count": null,
   "metadata": {
    "id": "0KfjhJ1s2TK-"
   },
   "outputs": [],
   "source": [
    "original_str = 'Hello There'\n",
    "lower_str = original_str.lower() # obj.method_that_acts_on() syntax\n",
    "print(f'\"{original_str}\" in all lower case is: {lower_str}')"
   ]
  },
  {
   "cell_type": "markdown",
   "metadata": {
    "id": "mX68HFYu2TK-"
   },
   "source": [
    "If you want your test for a palindrome to be flexible, it should ignore all non-alphbetic characters included in the phrase when comparing the characters in forward and backward direction. Conveniently, Python has a method that can check a string (or single character in a string) to see if it only contains *alphabetetic* characters (see <a href=\"https://docs.python.org/3/library/stdtypes.html#str.isalpha\" target=\"_blank\">`str.isalpha` Python documentation)</a>. This method and others like it that begin with the word \"*is*\" normally return a Boolean result, **True** or **False**, and can easily be used in an **if** statement. For example, the code cell below shows how you might determine if each letter in a string is an alphabetic letter.<br />\n",
    "**Execute the below code cell by hitting SHIFT+Enter.**"
   ]
  },
  {
   "cell_type": "code",
   "execution_count": null,
   "metadata": {
    "id": "VuhhMCpP55CF"
   },
   "outputs": [],
   "source": [
    "test_str = 'Hello123'\n",
    "print('Letter   isalpha?')\n",
    "for ch in test_str:\n",
    "  alphabetic = ch.isalpha() # Returns True/False\n",
    "  print(f'{ch:6}   {alphabetic}') # 6 is field width, formats output as column"
   ]
  },
  {
   "cell_type": "markdown",
   "metadata": {
    "id": "xQqkb3BQ75mi"
   },
   "source": [
    "So, you can use this approach to build a new string that contains only the alphabetic characters from the orginal string. More precisely, an easy way to do this is to build a new string (starting from empty), concatenating each character from the input string (or the changed case version of that string) that `isalpha` determines to be a letter. The code cell below makes a character by character copy of just the letters in a string.<br />\n",
    "**Execute the below code cell by hitting SHIFT+Enter.**"
   ]
  },
  {
   "cell_type": "code",
   "execution_count": null,
   "metadata": {
    "id": "DkPXJ0aK2TK_"
   },
   "outputs": [],
   "source": [
    "original_str = 'hello there, abc123!'\n",
    "copy_str = '' # Empty string\n",
    "for ch in original_str:\n",
    "  if ch.isalpha():\n",
    "    copy_str += ch # Only concatenate the alphabetic characters\n",
    "print(f'\"{original_str}\" letters copied is: {copy_str}')"
   ]
  },
  {
   "cell_type": "markdown",
   "metadata": {
    "id": "ZUJdOlKL2TK_"
   },
   "source": [
    "The last step in the problem to determine if a string is a palindrome can be done fairly easily in Python if you remember how to slice strings. Basically, if a string matches it's own reverse (after changing case and removing non-alphabetic characters) then the entered string is a palindrome. Recall, a slice lets you specify a starting index, an ending index, and a step. If you slice a string with a step of **-1**, the slice will create a reversed copy of the string, as shown in the code cell below.<br />\n",
    "**Execute the below code cell by hitting SHIFT+Enter.**"
   ]
  },
  {
   "cell_type": "code",
   "execution_count": null,
   "metadata": {
    "id": "tQ4opV9X2TLA"
   },
   "outputs": [],
   "source": [
    "original_str = 'Hello There'\n",
    "rev_str = original_str[::-1] # Slice from begininng to end with -1 step\n",
    "print(f'\"{original_str}\" reversed is: {rev_str}')"
   ]
  },
  {
   "cell_type": "markdown",
   "metadata": {
    "id": "psMr36noQxHZ"
   },
   "source": [
    "<h3>Problem 2 - <strong>OPTIONAL</strong></h3>\n",
    "\n",
    "Using what you've learned up to this point in the module, write Python code in the cell below that will input a string from the user and then determine if the string is a _palindrome_. A palindrome is a word or a phrase that is the same when read both forward and backward. For example, __BOB__ is a palindrome but __ALICE__ is not. Your code should ignore non-alphabetic characters and case in the input string when determining if the entered string is a palindrome. Several examples are shown below:\n",
    "\n",
    "<pre>\n",
    "Enter a phrase and I will tell you whether it is a palindrome: Bob\n",
    "IS a palindrome\n",
    "\n",
    "Enter a phrase and I will tell you whether it is a palindrome: AlIcE\n",
    "IS NOT a palindrome\n",
    "\n",
    "Enter a phrase and I will tell you whether it is a palindrome: Able was I ere I saw Elba\n",
    "IS a palindrome\n",
    "</pre>\n",
    "\n",
    "__Hint__: There are many ways to solve this problem but one of the easiest is to start by converting the case of the input to upper (or lower) case and then removing non-alphabetic characters from the string (leaving only upper case or lower case letters) before comparing the resulting string to its reverse as described step-by-step above. If the resulting string matches its reverse after then it is a palindrome."
   ]
  },
  {
   "cell_type": "code",
   "execution_count": null,
   "metadata": {
    "id": "sjsTABnkQxHa"
   },
   "outputs": [],
   "source": [
    "# Put OPTIONAL answer here\n"
   ]
  }
 ],
 "metadata": {
  "colab": {
   "collapsed_sections": [],
   "name": "Lab_Coding_Strings.ipynb",
   "provenance": []
  },
  "kernelspec": {
   "display_name": "Python 3 (ipykernel)",
   "language": "python",
   "name": "python3"
  },
  "language_info": {
   "codemirror_mode": {
    "name": "ipython",
    "version": 3
   },
   "file_extension": ".py",
   "mimetype": "text/x-python",
   "name": "python",
   "nbconvert_exporter": "python",
   "pygments_lexer": "ipython3",
   "version": "3.11.3"
  }
 },
 "nbformat": 4,
 "nbformat_minor": 4
}
